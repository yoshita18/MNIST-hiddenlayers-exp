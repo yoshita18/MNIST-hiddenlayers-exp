{
  "nbformat": 4,
  "nbformat_minor": 0,
  "metadata": {
    "colab": {
      "provenance": [],
      "gpuType": "T4"
    },
    "kernelspec": {
      "name": "python3",
      "display_name": "Python 3"
    },
    "language_info": {
      "name": "python"
    },
    "accelerator": "GPU"
  },
  "cells": [
    {
      "cell_type": "code",
      "execution_count": 2,
      "metadata": {
        "id": "NrH4h0mwgYvn"
      },
      "outputs": [],
      "source": [
        "import torch\n",
        "from torch import nn\n",
        "from torch.utils.data import DataLoader\n",
        "from torchvision import datasets\n",
        "from torchvision.transforms import ToTensor"
      ]
    },
    {
      "cell_type": "code",
      "source": [
        "# Download training data from MNIST datasets.\n",
        "training_data = datasets.MNIST(\n",
        "    root=\"data\",\n",
        "    train=True,\n",
        "    download=True,\n",
        "    transform=ToTensor(),\n",
        ")\n",
        "\n",
        "# Download test data from open datasets.\n",
        "test_data = datasets.MNIST(\n",
        "    root=\"data\",\n",
        "    train=False,\n",
        "    download=True,\n",
        "    transform=ToTensor(),\n",
        ")\n",
        "\n",
        "batch_size = 64\n",
        "\n",
        "# Create data loaders to iterate over data\n",
        "train_dataloader = DataLoader(training_data, batch_size=batch_size)\n",
        "test_dataloader = DataLoader(test_data, batch_size=batch_size)\n",
        "\n",
        "print(\"Training data size:\", len(train_dataloader) * batch_size)\n",
        "print(\"Test data size:\", len(test_dataloader) * batch_size)\n",
        "\n",
        "for X, y in test_dataloader:\n",
        "    print(f\"Shape of X [N, C, H, W]: {X.shape}\")\n",
        "    print(f\"Shape of y: {y.shape} {y.dtype}\")\n",
        "    break"
      ],
      "metadata": {
        "colab": {
          "base_uri": "https://localhost:8080/"
        },
        "id": "BbC6CxjPgkUD",
        "outputId": "9d7dcaec-7ff8-4bbb-aaf2-0bbfb1fb6379"
      },
      "execution_count": 3,
      "outputs": [
        {
          "output_type": "stream",
          "name": "stderr",
          "text": [
            "100%|██████████| 9.91M/9.91M [00:00<00:00, 18.3MB/s]\n",
            "100%|██████████| 28.9k/28.9k [00:00<00:00, 491kB/s]\n",
            "100%|██████████| 1.65M/1.65M [00:00<00:00, 4.60MB/s]\n",
            "100%|██████████| 4.54k/4.54k [00:00<00:00, 6.88MB/s]"
          ]
        },
        {
          "output_type": "stream",
          "name": "stdout",
          "text": [
            "Training data size: 60032\n",
            "Test data size: 10048\n",
            "Shape of X [N, C, H, W]: torch.Size([64, 1, 28, 28])\n",
            "Shape of y: torch.Size([64]) torch.int64\n"
          ]
        },
        {
          "output_type": "stream",
          "name": "stderr",
          "text": [
            "\n"
          ]
        }
      ]
    },
    {
      "cell_type": "code",
      "source": [
        "for X, y in train_dataloader:\n",
        "    print(f\"Shape of X [N, C, H, W]: {X.shape}\")\n",
        "    print(f\"Shape of y: {y.shape} {y.dtype}\")\n",
        "    break"
      ],
      "metadata": {
        "colab": {
          "base_uri": "https://localhost:8080/"
        },
        "id": "YE-UFwEqOAwk",
        "outputId": "8f622f55-1441-423c-c7de-9eb28a552178"
      },
      "execution_count": 4,
      "outputs": [
        {
          "output_type": "stream",
          "name": "stdout",
          "text": [
            "Shape of X [N, C, H, W]: torch.Size([64, 1, 28, 28])\n",
            "Shape of y: torch.Size([64]) torch.int64\n"
          ]
        }
      ]
    },
    {
      "cell_type": "code",
      "source": [
        "device = torch.device(\n",
        "    \"cuda\" if torch.cuda.is_available()\n",
        "    else \"mps\" if torch.backends.mps.is_available()  # Apple Silicon GPU\n",
        "    else \"cpu\"\n",
        ")\n",
        "print(f\"Using {device} device\")"
      ],
      "metadata": {
        "colab": {
          "base_uri": "https://localhost:8080/"
        },
        "id": "v5RZGe8gg9qV",
        "outputId": "67305a94-5528-44ec-a1ea-3069321caec0"
      },
      "execution_count": 5,
      "outputs": [
        {
          "output_type": "stream",
          "name": "stdout",
          "text": [
            "Using cuda device\n"
          ]
        }
      ]
    },
    {
      "cell_type": "code",
      "source": [
        "# Define model\n",
        "class NeuralNetwork(nn.Module):\n",
        "    def __init__(self, input_size, hidden_size, num_classes):\n",
        "        super().__init__()\n",
        "        self.flatten = nn.Flatten()\n",
        "        self.linear_relu_stack = nn.Sequential(\n",
        "            nn.Linear(input_size, hidden_size),\n",
        "            nn.ReLU(),\n",
        "            nn.Linear(hidden_size, hidden_size),\n",
        "            nn.ReLU(),\n",
        "            nn.Linear(hidden_size, num_classes)\n",
        "        )\n",
        "\n",
        "    def forward(self, image_tensor):\n",
        "        image_tensor = self.flatten(image_tensor)\n",
        "        logits = self.linear_relu_stack(image_tensor)\n",
        "        return logits\n",
        "\n",
        "input_size = 28*28\n",
        "hidden_size = 512\n",
        "num_classes = 10\n",
        "\n",
        "model = NeuralNetwork(input_size, hidden_size, num_classes).to(device)\n",
        "print(model)"
      ],
      "metadata": {
        "colab": {
          "base_uri": "https://localhost:8080/"
        },
        "id": "G2BO8YOJ2yYw",
        "outputId": "bf34d9cf-aa80-47af-eef9-90f42144420e"
      },
      "execution_count": 6,
      "outputs": [
        {
          "output_type": "stream",
          "name": "stdout",
          "text": [
            "NeuralNetwork(\n",
            "  (flatten): Flatten(start_dim=1, end_dim=-1)\n",
            "  (linear_relu_stack): Sequential(\n",
            "    (0): Linear(in_features=784, out_features=512, bias=True)\n",
            "    (1): ReLU()\n",
            "    (2): Linear(in_features=512, out_features=512, bias=True)\n",
            "    (3): ReLU()\n",
            "    (4): Linear(in_features=512, out_features=10, bias=True)\n",
            "  )\n",
            ")\n"
          ]
        }
      ]
    },
    {
      "cell_type": "code",
      "source": [
        "learning_rate = 1e-3  # 0.001\n",
        "loss_fn = nn.CrossEntropyLoss()\n",
        "optimizer = torch.optim.Adam(model.parameters(), lr=learning_rate)\n",
        "\n",
        "# Let's define our training function\n",
        "def train(dataloader, model, loss_fn, optimizer):\n",
        "    size = len(dataloader.dataset)\n",
        "    model.train()\n",
        "\n",
        "    for batch_num, (X, y) in enumerate(dataloader):\n",
        "        X, y = X.to(device), y.to(device)\n",
        "\n",
        "        # Forward pass to compute prediction\n",
        "        pred = model(X)\n",
        "        # Compute prediction error using loss function\n",
        "        loss = loss_fn(pred, y)\n",
        "\n",
        "        # Backward pass\n",
        "        optimizer.zero_grad()  # zero any previous gradient calculations\n",
        "        loss.backward()  # calculate gradient\n",
        "        optimizer.step()  # update model parameters\n",
        "\n",
        "        if batch_num > 0 and batch_num % 100 == 0:\n",
        "            loss, current = loss.item(), batch_num * len(X)\n",
        "            print(f\"loss: {loss:>7f}  [{current:>5d}/{size:>5d}]\")"
      ],
      "metadata": {
        "id": "IS3qLf9OaxrK"
      },
      "execution_count": 7,
      "outputs": []
    },
    {
      "cell_type": "code",
      "source": [
        "def test(dataloader, model, loss_fn):\n",
        "    size = len(dataloader.dataset)\n",
        "    num_batches = len(dataloader)\n",
        "    model.eval()\n",
        "    test_loss, correct = 0, 0\n",
        "    for X, y in dataloader:\n",
        "        X, y = X.to(device), y.to(device)\n",
        "        pred = model(X)\n",
        "        test_loss += loss_fn(pred, y).item()\n",
        "        correct += (pred.argmax(1) == y).type(torch.float).sum().item()\n",
        "    test_loss /= num_batches\n",
        "    correct /= size\n",
        "    print(f\"Test Error: \\n Accuracy: {(100*correct):>0.1f}%, Avg loss: {test_loss:>8f} \\n\")"
      ],
      "metadata": {
        "id": "_qGMHdhQa9vF"
      },
      "execution_count": 9,
      "outputs": []
    },
    {
      "cell_type": "code",
      "source": [
        "# Let's run training\n",
        "epochs = 5\n",
        "for t in range(epochs):\n",
        "    print(f\"Epoch {t+1}\\n-------------------------------\")\n",
        "    train(train_dataloader, model, loss_fn, optimizer)\n",
        "    test(test_dataloader, model, loss_fn)\n",
        "print(\"Done!\")"
      ],
      "metadata": {
        "colab": {
          "base_uri": "https://localhost:8080/"
        },
        "id": "9i8nZnZWiBti",
        "outputId": "969d99cd-34b3-4dc0-ed6c-ce82375847df"
      },
      "execution_count": 10,
      "outputs": [
        {
          "output_type": "stream",
          "name": "stdout",
          "text": [
            "Epoch 1\n",
            "-------------------------------\n",
            "loss: 0.259589  [ 6400/60000]\n",
            "loss: 0.201034  [12800/60000]\n",
            "loss: 0.227928  [19200/60000]\n",
            "loss: 0.157710  [25600/60000]\n",
            "loss: 0.324994  [32000/60000]\n",
            "loss: 0.138709  [38400/60000]\n",
            "loss: 0.244276  [44800/60000]\n",
            "loss: 0.195762  [51200/60000]\n",
            "loss: 0.181191  [57600/60000]\n",
            "Test Error: \n",
            " Accuracy: 95.2%, Avg loss: 0.147417 \n",
            "\n",
            "Epoch 2\n",
            "-------------------------------\n",
            "loss: 0.117077  [ 6400/60000]\n",
            "loss: 0.097069  [12800/60000]\n",
            "loss: 0.064232  [19200/60000]\n",
            "loss: 0.026284  [25600/60000]\n",
            "loss: 0.129301  [32000/60000]\n",
            "loss: 0.051051  [38400/60000]\n",
            "loss: 0.134731  [44800/60000]\n",
            "loss: 0.089865  [51200/60000]\n",
            "loss: 0.130065  [57600/60000]\n",
            "Test Error: \n",
            " Accuracy: 97.0%, Avg loss: 0.099923 \n",
            "\n",
            "Epoch 3\n",
            "-------------------------------\n",
            "loss: 0.099417  [ 6400/60000]\n",
            "loss: 0.049621  [12800/60000]\n",
            "loss: 0.107644  [19200/60000]\n",
            "loss: 0.080813  [25600/60000]\n",
            "loss: 0.075835  [32000/60000]\n",
            "loss: 0.051932  [38400/60000]\n",
            "loss: 0.079470  [44800/60000]\n",
            "loss: 0.078950  [51200/60000]\n",
            "loss: 0.087828  [57600/60000]\n",
            "Test Error: \n",
            " Accuracy: 96.9%, Avg loss: 0.114638 \n",
            "\n",
            "Epoch 4\n",
            "-------------------------------\n",
            "loss: 0.012197  [ 6400/60000]\n",
            "loss: 0.030110  [12800/60000]\n",
            "loss: 0.078254  [19200/60000]\n",
            "loss: 0.069719  [25600/60000]\n",
            "loss: 0.065948  [32000/60000]\n",
            "loss: 0.035276  [38400/60000]\n",
            "loss: 0.044588  [44800/60000]\n",
            "loss: 0.122963  [51200/60000]\n",
            "loss: 0.052542  [57600/60000]\n",
            "Test Error: \n",
            " Accuracy: 96.3%, Avg loss: 0.148956 \n",
            "\n",
            "Epoch 5\n",
            "-------------------------------\n",
            "loss: 0.015346  [ 6400/60000]\n",
            "loss: 0.034118  [12800/60000]\n",
            "loss: 0.048641  [19200/60000]\n",
            "loss: 0.010444  [25600/60000]\n",
            "loss: 0.024181  [32000/60000]\n",
            "loss: 0.012799  [38400/60000]\n",
            "loss: 0.011040  [44800/60000]\n",
            "loss: 0.110970  [51200/60000]\n",
            "loss: 0.009784  [57600/60000]\n",
            "Test Error: \n",
            " Accuracy: 97.2%, Avg loss: 0.111957 \n",
            "\n",
            "Done!\n"
          ]
        }
      ]
    },
    {
      "cell_type": "code",
      "source": [
        "# Save our model parameters\n",
        "torch.save(model.state_dict(), \"ml_with_pytorch_model.pth\")\n",
        "print(\"Saved PyTorch Model State to ml_with_pytorch_model.pth\")\n",
        "\n",
        "# Load the saved model parameters into a new instance of the model\n",
        "model = NeuralNetwork(input_size, hidden_size, num_classes).to(device)\n",
        "model.load_state_dict(torch.load(\"ml_with_pytorch_model.pth\"))\n",
        "\n",
        "# Inference using the new model instance\n",
        "model.eval()\n",
        "for i in range(10):\n",
        "    x, y = test_data[i][0], test_data[i][1]\n",
        "\n",
        "    x = x.to(device)\n",
        "    pred = model(x)\n",
        "    predicted, actual = pred[0].argmax(0).item(), y\n",
        "    print(f'Predicted: \"{predicted}\", Actual: \"{actual}\"')"
      ],
      "metadata": {
        "colab": {
          "base_uri": "https://localhost:8080/"
        },
        "id": "Zb57svcFibR1",
        "outputId": "6f263f5e-b3d8-4a47-c9eb-62b8fe3efad7"
      },
      "execution_count": 11,
      "outputs": [
        {
          "output_type": "stream",
          "name": "stdout",
          "text": [
            "Saved PyTorch Model State to ml_with_pytorch_model.pth\n",
            "Predicted: \"7\", Actual: \"7\"\n",
            "Predicted: \"2\", Actual: \"2\"\n",
            "Predicted: \"1\", Actual: \"1\"\n",
            "Predicted: \"0\", Actual: \"0\"\n",
            "Predicted: \"4\", Actual: \"4\"\n",
            "Predicted: \"1\", Actual: \"1\"\n",
            "Predicted: \"4\", Actual: \"4\"\n",
            "Predicted: \"9\", Actual: \"9\"\n",
            "Predicted: \"5\", Actual: \"5\"\n",
            "Predicted: \"9\", Actual: \"9\"\n"
          ]
        }
      ]
    },
    {
      "cell_type": "markdown",
      "source": [
        "\n",
        "**Building the model with 1 hidden layer**"
      ],
      "metadata": {
        "id": "dxtKd7wzoear"
      }
    },
    {
      "cell_type": "code",
      "source": [
        "class NeuralNetworkOneHiddenLayer(nn.Module):\n",
        "    def __init__(self, input_size, hidden_size, num_classes):\n",
        "        super().__init__()\n",
        "        self.flatten = nn.Flatten()\n",
        "        self.linear_relu_stack = nn.Sequential(\n",
        "            nn.Linear(input_size, hidden_size),  # input → hidden\n",
        "            nn.ReLU(),                           # non-linearity\n",
        "            nn.Linear(hidden_size, num_classes)  # hidden → output\n",
        "        )\n",
        "\n",
        "    def forward(self, x):\n",
        "        x = self.flatten(x)           # [batch, 1, 28, 28] → [batch, 784]\n",
        "        logits = self.linear_relu_stack(x)\n",
        "        return logits\n",
        "\n",
        "# Model setup\n",
        "input_size = 28*28   # 784\n",
        "hidden_size = 512    # still 512, but now only one hidden layer\n",
        "num_classes = 10\n",
        "\n",
        "model = NeuralNetworkOneHiddenLayer(input_size, hidden_size, num_classes).to(device)\n",
        "print(model)"
      ],
      "metadata": {
        "colab": {
          "base_uri": "https://localhost:8080/"
        },
        "id": "uTVcKl89oqFq",
        "outputId": "938883d3-975a-4fac-f31c-40c8fa0b29c6"
      },
      "execution_count": 12,
      "outputs": [
        {
          "output_type": "stream",
          "name": "stdout",
          "text": [
            "NeuralNetworkOneHiddenLayer(\n",
            "  (flatten): Flatten(start_dim=1, end_dim=-1)\n",
            "  (linear_relu_stack): Sequential(\n",
            "    (0): Linear(in_features=784, out_features=512, bias=True)\n",
            "    (1): ReLU()\n",
            "    (2): Linear(in_features=512, out_features=10, bias=True)\n",
            "  )\n",
            ")\n"
          ]
        }
      ]
    },
    {
      "cell_type": "code",
      "source": [
        "learning_rate = 1e-3  # 0.001\n",
        "loss_fn = nn.CrossEntropyLoss()\n",
        "optimizer = torch.optim.Adam(model.parameters(), lr=learning_rate)\n",
        "\n",
        "# Let's define our training function\n",
        "def train(dataloader, model, loss_fn, optimizer):\n",
        "    size = len(dataloader.dataset)\n",
        "    model.train()\n",
        "\n",
        "    for batch_num, (X, y) in enumerate(dataloader):\n",
        "        X, y = X.to(device), y.to(device)\n",
        "\n",
        "        # Forward pass to compute prediction\n",
        "        pred = model(X)\n",
        "        # Compute prediction error using loss function\n",
        "        loss = loss_fn(pred, y)\n",
        "\n",
        "        # Backward pass\n",
        "        optimizer.zero_grad()  # zero any previous gradient calculations\n",
        "        loss.backward()  # calculate gradient\n",
        "        optimizer.step()  # update model parameters\n",
        "\n",
        "        if batch_num > 0 and batch_num % 100 == 0:\n",
        "            loss, current = loss.item(), batch_num * len(X)\n",
        "            print(f\"loss: {loss:>7f}  [{current:>5d}/{size:>5d}]\")"
      ],
      "metadata": {
        "id": "oFeGt2DJpFBj"
      },
      "execution_count": 13,
      "outputs": []
    },
    {
      "cell_type": "code",
      "source": [
        "def test(dataloader, model, loss_fn):\n",
        "    size = len(dataloader.dataset)\n",
        "    num_batches = len(dataloader)\n",
        "    model.eval()\n",
        "    test_loss, correct = 0, 0\n",
        "    for X, y in dataloader:\n",
        "        X, y = X.to(device), y.to(device)\n",
        "        pred = model(X)\n",
        "        test_loss += loss_fn(pred, y).item()\n",
        "        correct += (pred.argmax(1) == y).type(torch.float).sum().item()\n",
        "    test_loss /= num_batches\n",
        "    correct /= size\n",
        "    print(f\"Test Error: \\n Accuracy: {(100*correct):>0.1f}%, Avg loss: {test_loss:>8f} \\n\")"
      ],
      "metadata": {
        "id": "wnBD816XpJRr"
      },
      "execution_count": 14,
      "outputs": []
    },
    {
      "cell_type": "code",
      "source": [
        "# Let's run training\n",
        "epochs = 5\n",
        "for t in range(epochs):\n",
        "    print(f\"Epoch {t+1}\\n-------------------------------\")\n",
        "    train(train_dataloader, model, loss_fn, optimizer)\n",
        "    test(test_dataloader, model, loss_fn)\n",
        "print(\"Done!\")"
      ],
      "metadata": {
        "colab": {
          "base_uri": "https://localhost:8080/"
        },
        "id": "M9YcS2GXpMfW",
        "outputId": "2d6d47ee-333f-4bbd-d0dc-812f1ec20fa9"
      },
      "execution_count": 15,
      "outputs": [
        {
          "output_type": "stream",
          "name": "stdout",
          "text": [
            "Epoch 1\n",
            "-------------------------------\n",
            "loss: 0.282330  [ 6400/60000]\n",
            "loss: 0.216166  [12800/60000]\n",
            "loss: 0.255039  [19200/60000]\n",
            "loss: 0.168707  [25600/60000]\n",
            "loss: 0.294654  [32000/60000]\n",
            "loss: 0.112995  [38400/60000]\n",
            "loss: 0.297073  [44800/60000]\n",
            "loss: 0.297350  [51200/60000]\n",
            "loss: 0.209091  [57600/60000]\n",
            "Test Error: \n",
            " Accuracy: 95.5%, Avg loss: 0.143888 \n",
            "\n",
            "Epoch 2\n",
            "-------------------------------\n",
            "loss: 0.131141  [ 6400/60000]\n",
            "loss: 0.070487  [12800/60000]\n",
            "loss: 0.114941  [19200/60000]\n",
            "loss: 0.073759  [25600/60000]\n",
            "loss: 0.167428  [32000/60000]\n",
            "loss: 0.044939  [38400/60000]\n",
            "loss: 0.191737  [44800/60000]\n",
            "loss: 0.168557  [51200/60000]\n",
            "loss: 0.146483  [57600/60000]\n",
            "Test Error: \n",
            " Accuracy: 96.6%, Avg loss: 0.103262 \n",
            "\n",
            "Epoch 3\n",
            "-------------------------------\n",
            "loss: 0.085301  [ 6400/60000]\n",
            "loss: 0.054605  [12800/60000]\n",
            "loss: 0.045030  [19200/60000]\n",
            "loss: 0.045366  [25600/60000]\n",
            "loss: 0.102169  [32000/60000]\n",
            "loss: 0.025323  [38400/60000]\n",
            "loss: 0.118970  [44800/60000]\n",
            "loss: 0.066869  [51200/60000]\n",
            "loss: 0.100521  [57600/60000]\n",
            "Test Error: \n",
            " Accuracy: 97.0%, Avg loss: 0.090504 \n",
            "\n",
            "Epoch 4\n",
            "-------------------------------\n",
            "loss: 0.050410  [ 6400/60000]\n",
            "loss: 0.046847  [12800/60000]\n",
            "loss: 0.025047  [19200/60000]\n",
            "loss: 0.037987  [25600/60000]\n",
            "loss: 0.075715  [32000/60000]\n",
            "loss: 0.018157  [38400/60000]\n",
            "loss: 0.079412  [44800/60000]\n",
            "loss: 0.035141  [51200/60000]\n",
            "loss: 0.067390  [57600/60000]\n",
            "Test Error: \n",
            " Accuracy: 97.2%, Avg loss: 0.088430 \n",
            "\n",
            "Epoch 5\n",
            "-------------------------------\n",
            "loss: 0.034341  [ 6400/60000]\n",
            "loss: 0.039175  [12800/60000]\n",
            "loss: 0.012301  [19200/60000]\n",
            "loss: 0.027000  [25600/60000]\n",
            "loss: 0.058248  [32000/60000]\n",
            "loss: 0.011925  [38400/60000]\n",
            "loss: 0.046093  [44800/60000]\n",
            "loss: 0.033967  [51200/60000]\n",
            "loss: 0.040694  [57600/60000]\n",
            "Test Error: \n",
            " Accuracy: 97.7%, Avg loss: 0.076719 \n",
            "\n",
            "Done!\n"
          ]
        }
      ]
    },
    {
      "cell_type": "markdown",
      "source": [
        "**No hidden layer-no Relu; Logistic Regression**"
      ],
      "metadata": {
        "id": "gzOBG2BCpcjQ"
      }
    },
    {
      "cell_type": "code",
      "source": [
        "class LogisticRegressionMNIST(nn.Module):\n",
        "    def __init__(self, input_size, num_classes):\n",
        "        super().__init__()\n",
        "        self.flatten = nn.Flatten()\n",
        "        self.linear = nn.Linear(input_size, num_classes)  # directly input → output\n",
        "\n",
        "    def forward(self, x):\n",
        "        x = self.flatten(x)       # [batch, 1, 28, 28] → [batch, 784]\n",
        "        logits = self.linear(x)   # [batch, 784] → [batch, 10]\n",
        "        return logits\n",
        "\n",
        "# Model setup\n",
        "input_size = 28*28   # 784 pixels\n",
        "num_classes = 10     # digits 0–9\n",
        "\n",
        "model = LogisticRegressionMNIST(input_size, num_classes).to(device)\n",
        "print(model)"
      ],
      "metadata": {
        "colab": {
          "base_uri": "https://localhost:8080/"
        },
        "id": "bL0wg0aYpPxG",
        "outputId": "d5efee61-c889-4b86-b4c2-2c7a23fefb81"
      },
      "execution_count": 16,
      "outputs": [
        {
          "output_type": "stream",
          "name": "stdout",
          "text": [
            "LogisticRegressionMNIST(\n",
            "  (flatten): Flatten(start_dim=1, end_dim=-1)\n",
            "  (linear): Linear(in_features=784, out_features=10, bias=True)\n",
            ")\n"
          ]
        }
      ]
    },
    {
      "cell_type": "code",
      "source": [
        "learning_rate = 1e-3  # 0.001\n",
        "loss_fn = nn.CrossEntropyLoss()\n",
        "optimizer = torch.optim.Adam(model.parameters(), lr=learning_rate)\n",
        "\n",
        "# Let's define our training function\n",
        "def train(dataloader, model, loss_fn, optimizer):\n",
        "    size = len(dataloader.dataset)\n",
        "    model.train()\n",
        "\n",
        "    for batch_num, (X, y) in enumerate(dataloader):\n",
        "        X, y = X.to(device), y.to(device)\n",
        "\n",
        "        # Forward pass to compute prediction\n",
        "        pred = model(X)\n",
        "        # Compute prediction error using loss function\n",
        "        loss = loss_fn(pred, y)\n",
        "\n",
        "        # Backward pass\n",
        "        optimizer.zero_grad()  # zero any previous gradient calculations\n",
        "        loss.backward()  # calculate gradient\n",
        "        optimizer.step()  # update model parameters\n",
        "\n",
        "        if batch_num > 0 and batch_num % 100 == 0:\n",
        "            loss, current = loss.item(), batch_num * len(X)\n",
        "            print(f\"loss: {loss:>7f}  [{current:>5d}/{size:>5d}]\")"
      ],
      "metadata": {
        "id": "kvqBNB-8pwgn"
      },
      "execution_count": 17,
      "outputs": []
    },
    {
      "cell_type": "code",
      "source": [
        "def test(dataloader, model, loss_fn):\n",
        "    size = len(dataloader.dataset)\n",
        "    num_batches = len(dataloader)\n",
        "    model.eval()\n",
        "    test_loss, correct = 0, 0\n",
        "    for X, y in dataloader:\n",
        "        X, y = X.to(device), y.to(device)\n",
        "        pred = model(X)\n",
        "        test_loss += loss_fn(pred, y).item()\n",
        "        correct += (pred.argmax(1) == y).type(torch.float).sum().item()\n",
        "    test_loss /= num_batches\n",
        "    correct /= size\n",
        "    print(f\"Test Error: \\n Accuracy: {(100*correct):>0.1f}%, Avg loss: {test_loss:>8f} \\n\")"
      ],
      "metadata": {
        "id": "5apQJZG9p4mf"
      },
      "execution_count": 18,
      "outputs": []
    },
    {
      "cell_type": "code",
      "source": [
        "# Let's run training\n",
        "epochs = 5\n",
        "for t in range(epochs):\n",
        "    print(f\"Epoch {t+1}\\n-------------------------------\")\n",
        "    train(train_dataloader, model, loss_fn, optimizer)\n",
        "    test(test_dataloader, model, loss_fn)\n",
        "print(\"Done!\")"
      ],
      "metadata": {
        "colab": {
          "base_uri": "https://localhost:8080/"
        },
        "id": "qiKvQEw8p8qE",
        "outputId": "a6fafefa-5bd5-4f37-9891-0ca305b6501c"
      },
      "execution_count": 19,
      "outputs": [
        {
          "output_type": "stream",
          "name": "stdout",
          "text": [
            "Epoch 1\n",
            "-------------------------------\n",
            "loss: 0.752077  [ 6400/60000]\n",
            "loss: 0.587166  [12800/60000]\n",
            "loss: 0.521282  [19200/60000]\n",
            "loss: 0.387217  [25600/60000]\n",
            "loss: 0.430009  [32000/60000]\n",
            "loss: 0.316032  [38400/60000]\n",
            "loss: 0.500047  [44800/60000]\n",
            "loss: 0.390481  [51200/60000]\n",
            "loss: 0.436295  [57600/60000]\n",
            "Test Error: \n",
            " Accuracy: 90.9%, Avg loss: 0.335758 \n",
            "\n",
            "Epoch 2\n",
            "-------------------------------\n",
            "loss: 0.331241  [ 6400/60000]\n",
            "loss: 0.265067  [12800/60000]\n",
            "loss: 0.389671  [19200/60000]\n",
            "loss: 0.243207  [25600/60000]\n",
            "loss: 0.370169  [32000/60000]\n",
            "loss: 0.222480  [38400/60000]\n",
            "loss: 0.431668  [44800/60000]\n",
            "loss: 0.327607  [51200/60000]\n",
            "loss: 0.425102  [57600/60000]\n",
            "Test Error: \n",
            " Accuracy: 91.8%, Avg loss: 0.295628 \n",
            "\n",
            "Epoch 3\n",
            "-------------------------------\n",
            "loss: 0.299593  [ 6400/60000]\n",
            "loss: 0.212137  [12800/60000]\n",
            "loss: 0.345820  [19200/60000]\n",
            "loss: 0.220704  [25600/60000]\n",
            "loss: 0.353695  [32000/60000]\n",
            "loss: 0.197119  [38400/60000]\n",
            "loss: 0.407439  [44800/60000]\n",
            "loss: 0.307763  [51200/60000]\n",
            "loss: 0.420972  [57600/60000]\n",
            "Test Error: \n",
            " Accuracy: 92.0%, Avg loss: 0.281712 \n",
            "\n",
            "Epoch 4\n",
            "-------------------------------\n",
            "loss: 0.288100  [ 6400/60000]\n",
            "loss: 0.189771  [12800/60000]\n",
            "loss: 0.319844  [19200/60000]\n",
            "loss: 0.216888  [25600/60000]\n",
            "loss: 0.343997  [32000/60000]\n",
            "loss: 0.185725  [38400/60000]\n",
            "loss: 0.393570  [44800/60000]\n",
            "loss: 0.297031  [51200/60000]\n",
            "loss: 0.416096  [57600/60000]\n",
            "Test Error: \n",
            " Accuracy: 92.2%, Avg loss: 0.274942 \n",
            "\n",
            "Epoch 5\n",
            "-------------------------------\n",
            "loss: 0.281404  [ 6400/60000]\n",
            "loss: 0.177848  [12800/60000]\n",
            "loss: 0.303417  [19200/60000]\n",
            "loss: 0.218454  [25600/60000]\n",
            "loss: 0.337017  [32000/60000]\n",
            "loss: 0.179440  [38400/60000]\n",
            "loss: 0.384213  [44800/60000]\n",
            "loss: 0.290042  [51200/60000]\n",
            "loss: 0.411043  [57600/60000]\n",
            "Test Error: \n",
            " Accuracy: 92.4%, Avg loss: 0.271087 \n",
            "\n",
            "Done!\n"
          ]
        }
      ]
    }
  ]
}